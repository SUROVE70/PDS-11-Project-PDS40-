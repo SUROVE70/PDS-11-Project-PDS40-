{
  "nbformat": 4,
  "nbformat_minor": 0,
  "metadata": {
    "colab": {
      "provenance": []
    },
    "kernelspec": {
      "name": "python3",
      "display_name": "Python 3"
    },
    "language_info": {
      "name": "python"
    }
  },
  "cells": [
    {
      "cell_type": "code",
      "execution_count": null,
      "metadata": {
        "id": "nbRrmOtiQsR1"
      },
      "outputs": [],
      "source": [
        "import seaborn as sns\n",
        "import pandas as pd\n",
        "import matplotlib.pyplot as plt\n",
        "\n",
        "# Load Titanic dataset from seaborn\n",
        "titanic = sns.load_dataset('titanic')\n",
        "\n",
        "# Group the data by 'Survived' and 'Sex' to get the count of each group\n",
        "survival_counts = titanic.groupby(['Survived', 'Sex'])['PassengerId'].count().reset_index()\n",
        "\n",
        "# Rename columns for better readability\n",
        "survival_counts.columns = ['Survived', 'Sex', 'Count']\n",
        "\n",
        "# Pivot the table for easier plotting with seaborn\n",
        "survival_pivot = survival_counts.pivot(index='Survived', columns='Sex', values='Count').reset_index()\n",
        "\n",
        "# Plot the data\n",
        "survival_pivot.plot(\n",
        "    x='Survived',\n",
        "    kind='bar',\n",
        "    stacked=False,\n",
        "    figsize=(8, 6),\n",
        "    color=['skyblue', 'lightcoral']\n",
        ")\n",
        "\n",
        "# Add labels and title\n",
        "plt.xticks([0, 1], ['Dead', 'Survived'], rotation=0)\n",
        "plt.xlabel('Survival Status')\n",
        "plt.ylabel('Number of Passengers')\n",
        "plt.title('Number of Male and Female Passengers Who Survived or Died on Titanic')\n",
        "plt.legend(['Female', 'Male'])\n",
        "plt.show()"
      ]
    }
  ]
}